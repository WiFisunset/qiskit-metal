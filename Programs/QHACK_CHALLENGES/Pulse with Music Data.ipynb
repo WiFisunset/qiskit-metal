{
 "cells": [
  {
   "cell_type": "code",
   "execution_count": 2,
   "id": "transsexual-frequency",
   "metadata": {},
   "outputs": [],
   "source": [
    "### Potential Sources:\n",
    "## Music and Piecewise Gaussian Models: http://desolneux.perso.math.cnrs.fr/MVA/Cours-Gaussian-Music.pdf\n",
    "## https://arxiv.org/pdf/1606.01039.pdf\n",
    "\n",
    "from qiskit import pulse\n",
    "from qiskit.pulse.library import Gaussian\n",
    "from qiskit import transpile, schedule as build_schedule\n",
    "from qiskit.test.mock import FakeAlmaden\n",
    "\n",
    "backend = FakeAlmaden()"
   ]
  },
  {
   "cell_type": "code",
   "execution_count": null,
   "id": "elementary-lambda",
   "metadata": {},
   "outputs": [],
   "source": [
    "from qiskit import QuantumCircuit, ClassicalRegister, QuantumRegister, execute\n",
    "from qiskit.tools.visualization import circuit_drawer\n",
    "from qiskit.quantum_info import state_fidelity\n",
    "from qiskit import BasicAer\n",
    "from math import pi\n",
    "\n",
    "qcirc = QuantumCircuit(3, 3)\n",
    "qcirc.u3(330,pi/4,pi/4,0) ## Theta angle is Note E Frequency in Hz\n",
    "qcirc.u3(392,pi/4,pi/4,1) ## Theta angle is Note G Frequency in Hz\n",
    "qcirc.measure([0, 1], [0, 1])\n",
    "\n",
    "schedule = build_schedule(qcirc, backend,\n",
    "                          method=\"as_late_as_possible\")\n",
    "schedule.draw(channels=[pulse.DriveChannel(0), pulse.DriveChannel(1)])"
   ]
  },
  {
   "cell_type": "code",
   "execution_count": null,
   "id": "balanced-puzzle",
   "metadata": {},
   "outputs": [],
   "source": []
  },
  {
   "cell_type": "code",
   "execution_count": null,
   "id": "dynamic-easter",
   "metadata": {},
   "outputs": [],
   "source": []
  }
 ],
 "metadata": {
  "kernelspec": {
   "display_name": "Python 3",
   "language": "python",
   "name": "python3"
  },
  "language_info": {
   "codemirror_mode": {
    "name": "ipython",
    "version": 3
   },
   "file_extension": ".py",
   "mimetype": "text/x-python",
   "name": "python",
   "nbconvert_exporter": "python",
   "pygments_lexer": "ipython3",
   "version": "3.7.10"
  }
 },
 "nbformat": 4,
 "nbformat_minor": 5
}
