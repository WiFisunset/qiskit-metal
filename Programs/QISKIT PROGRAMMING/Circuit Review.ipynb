{
 "cells": [
  {
   "cell_type": "code",
   "execution_count": 2,
   "id": "executive-instruction",
   "metadata": {},
   "outputs": [],
   "source": [
    "import numpy as np\n",
    "from qiskit import *\n",
    "\n",
    "from qiskit.circuit import Gate\n",
    "user_gate = Gate(name='user_gate', num_qubits=2, params=[])"
   ]
  },
  {
   "cell_type": "code",
   "execution_count": 3,
   "id": "deluxe-leone",
   "metadata": {},
   "outputs": [
    {
     "data": {
      "text/html": [
       "<pre style=\"word-wrap: normal;white-space: pre;background: #fff0;line-height: 1.1;font-family: &quot;Courier New&quot;,Courier,monospace\">         ┌────────────┐              \n",
       "input_0: ┤0           ├──────────────\n",
       "         │  user_gate │┌────────────┐\n",
       "input_1: ┤1           ├┤0           ├\n",
       "         └────────────┘│  user_gate │\n",
       "input_2: ──────────────┤1           ├\n",
       "                       └────────────┘</pre>"
      ],
      "text/plain": [
       "         ┌────────────┐              \n",
       "input_0: ┤0           ├──────────────\n",
       "         │  user_gate │┌────────────┐\n",
       "input_1: ┤1           ├┤0           ├\n",
       "         └────────────┘│  user_gate │\n",
       "input_2: ──────────────┤1           ├\n",
       "                       └────────────┘"
      ]
     },
     "execution_count": 3,
     "metadata": {},
     "output_type": "execute_result"
    }
   ],
   "source": [
    "qr = QuantumRegister(3, 'input')\n",
    "qcirc = QuantumCircuit(qr)\n",
    "qcirc.append(user_gate, [qr[0], qr[1]])\n",
    "qcirc.append(user_gate, [qr[1], qr[2]])\n",
    "\n",
    "qcirc.draw()"
   ]
  },
  {
   "cell_type": "code",
   "execution_count": 7,
   "id": "activated-interview",
   "metadata": {},
   "outputs": [
    {
     "data": {
      "text/html": [
       "<pre style=\"word-wrap: normal;white-space: pre;background: #fff0;line-height: 1.1;font-family: &quot;Courier New&quot;,Courier,monospace\">               ┌───┐                           \n",
       "input_state_0: ┤ H ├──■────────────────────────\n",
       "               └───┘┌─┴─┐     ┌───────────────┐\n",
       "input_state_1: ─────┤ X ├──■──┤0              ├\n",
       "                    └───┘┌─┴─┐│  sub_register │\n",
       "input_state_2: ──────────┤ X ├┤1              ├\n",
       "                         └───┘└───────────────┘</pre>"
      ],
      "text/plain": [
       "               ┌───┐                           \n",
       "input_state_0: ┤ H ├──■────────────────────────\n",
       "               └───┘┌─┴─┐     ┌───────────────┐\n",
       "input_state_1: ─────┤ X ├──■──┤0              ├\n",
       "                    └───┘┌─┴─┐│  sub_register │\n",
       "input_state_2: ──────────┤ X ├┤1              ├\n",
       "                         └───┘└───────────────┘"
      ]
     },
     "execution_count": 7,
     "metadata": {},
     "output_type": "execute_result"
    }
   ],
   "source": [
    "## Composite Gates\n",
    "# Building a SubCircuit 'sub_register'\n",
    "sub_register = QuantumRegister(2)\n",
    "sub_qcirc = QuantumCircuit(sub_register, name='sub_register')\n",
    "sub_qcirc.h(sub_register[0])\n",
    "sub_qcirc.crz(1, sub_register[0], sub_register[1])\n",
    "sub_qcirc.barrier()\n",
    "sub_qcirc.id(sub_register[1])\n",
    "sub_qcirc.u3(1, 2, -2, sub_register[0])\n",
    "\n",
    "## Convert to a gate and stick it onto a place in the bigger circuit.\n",
    "sub_instruction = sub_qcirc.to_instruction() # This is later appended onto another circuit.\n",
    "\n",
    "# Building a Circuit that we'll append the sub-circuit above to.\n",
    "\n",
    "qr = QuantumRegister(3, 'input_state')\n",
    "qcirc = QuantumCircuit(qr)\n",
    "qcirc.h(qr[0]) # Applies a Hadamard Gate\n",
    "qcirc.cx(qr[0], qr[1]) # Applies a CX Gate to Qubits 0 and 1.\n",
    "qcirc.cx(qr[1], qr[2]) # Applies a CX Gate to Qubits 1 and 2.\n",
    "qcirc.append(sub_instruction, [qr[1], qr[2]])\n",
    "\n",
    "qcirc.draw()"
   ]
  },
  {
   "cell_type": "code",
   "execution_count": 8,
   "id": "general-fever",
   "metadata": {},
   "outputs": [
    {
     "data": {
      "text/html": [
       "<pre style=\"word-wrap: normal;white-space: pre;background: #fff0;line-height: 1.1;font-family: &quot;Courier New&quot;,Courier,monospace\">               ┌─────────┐                                         \n",
       "input_state_0: ┤ U2(0,π) ├──■──────────────────────────────────────\n",
       "               └─────────┘┌─┴─┐     ┌───┐          ░ ┌────────────┐\n",
       "input_state_1: ───────────┤ X ├──■──┤ H ├────■─────░─┤ U3(1,2,-2) ├\n",
       "                          └───┘┌─┴─┐└───┘┌───┴───┐ ░ └───┬───┬────┘\n",
       "input_state_2: ────────────────┤ X ├─────┤ RZ(1) ├─░─────┤ I ├─────\n",
       "                               └───┘     └───────┘ ░     └───┘     </pre>"
      ],
      "text/plain": [
       "               ┌─────────┐                                         \n",
       "input_state_0: ┤ U2(0,π) ├──■──────────────────────────────────────\n",
       "               └─────────┘┌─┴─┐     ┌───┐          ░ ┌────────────┐\n",
       "input_state_1: ───────────┤ X ├──■──┤ H ├────■─────░─┤ U3(1,2,-2) ├\n",
       "                          └───┘┌─┴─┐└───┘┌───┴───┐ ░ └───┬───┬────┘\n",
       "input_state_2: ────────────────┤ X ├─────┤ RZ(1) ├─░─────┤ I ├─────\n",
       "                               └───┘     └───────┘ ░     └───┘     "
      ]
     },
     "execution_count": 8,
     "metadata": {},
     "output_type": "execute_result"
    }
   ],
   "source": [
    "# Let's Decompose the gates more.\n",
    "decomposed_qcirc = qcirc.decompose() \n",
    "decomposed_qcirc.draw()"
   ]
  },
  {
   "cell_type": "code",
   "execution_count": 13,
   "id": "seasonal-luxury",
   "metadata": {},
   "outputs": [
    {
     "data": {
      "text/html": [
       "<pre style=\"word-wrap: normal;white-space: pre;background: #fff0;line-height: 1.1;font-family: &quot;Courier New&quot;,Courier,monospace\">     ┌───┐                     ░ ┌───────┐ ░                     ┌───┐┌─┐\n",
       "q_0: ┤ H ├──■──────────────────░─┤ RZ(θ) ├─░──────────────────■──┤ H ├┤M├\n",
       "     └───┘┌─┴─┐                ░ ├───────┤ ░                ┌─┴─┐└───┘└╥┘\n",
       "q_1: ─────┤ X ├──■─────────────░─┤ RZ(θ) ├─░─────────────■──┤ X ├──────╫─\n",
       "          └───┘┌─┴─┐           ░ ├───────┤ ░           ┌─┴─┐└───┘      ║ \n",
       "q_2: ──────────┤ X ├──■────────░─┤ RZ(θ) ├─░────────■──┤ X ├───────────╫─\n",
       "               └───┘┌─┴─┐      ░ ├───────┤ ░      ┌─┴─┐└───┘           ║ \n",
       "q_3: ───────────────┤ X ├──■───░─┤ RZ(θ) ├─░───■──┤ X ├────────────────╫─\n",
       "                    └───┘┌─┴─┐ ░ ├───────┤ ░ ┌─┴─┐└───┘                ║ \n",
       "q_4: ────────────────────┤ X ├─░─┤ RZ(θ) ├─░─┤ X ├─────────────────────╫─\n",
       "                         └───┘ ░ └───────┘ ░ └───┘                     ║ \n",
       "c: 1/══════════════════════════════════════════════════════════════════╩═\n",
       "                                                                       0 </pre>"
      ],
      "text/plain": [
       "     ┌───┐                     ░ ┌───────┐ ░                     ┌───┐┌─┐\n",
       "q_0: ┤ H ├──■──────────────────░─┤ RZ(θ) ├─░──────────────────■──┤ H ├┤M├\n",
       "     └───┘┌─┴─┐                ░ ├───────┤ ░                ┌─┴─┐└───┘└╥┘\n",
       "q_1: ─────┤ X ├──■─────────────░─┤ RZ(θ) ├─░─────────────■──┤ X ├──────╫─\n",
       "          └───┘┌─┴─┐           ░ ├───────┤ ░           ┌─┴─┐└───┘      ║ \n",
       "q_2: ──────────┤ X ├──■────────░─┤ RZ(θ) ├─░────────■──┤ X ├───────────╫─\n",
       "               └───┘┌─┴─┐      ░ ├───────┤ ░      ┌─┴─┐└───┘           ║ \n",
       "q_3: ───────────────┤ X ├──■───░─┤ RZ(θ) ├─░───■──┤ X ├────────────────╫─\n",
       "                    └───┘┌─┴─┐ ░ ├───────┤ ░ ┌─┴─┐└───┘                ║ \n",
       "q_4: ────────────────────┤ X ├─░─┤ RZ(θ) ├─░─┤ X ├─────────────────────╫─\n",
       "                         └───┘ ░ └───────┘ ░ └───┘                     ║ \n",
       "c: 1/══════════════════════════════════════════════════════════════════╩═\n",
       "                                                                       0 "
      ]
     },
     "execution_count": 13,
     "metadata": {},
     "output_type": "execute_result"
    }
   ],
   "source": [
    "## Building Parameterized Circuits\n",
    "from qiskit.circuit import Parameter\n",
    "theta = Parameter('θ')\n",
    "n = 5  #Iteration Variable\n",
    "\n",
    "qc = QuantumCircuit(5, 1)\n",
    "qc.h(0)\n",
    "\n",
    "# Loops through and creates cnot gates on all the qubits (top to bottom).\n",
    "for i in range(n-1):\n",
    "    qc.cx(i, i+1)\n",
    "    \n",
    "qc.barrier()\n",
    "qc.rz(theta, range(5)) # Places RZ Gates on all Qubits\n",
    "qc.barrier()\n",
    "\n",
    "# Loops through and creates cnot gates on all the qubits (bottom to top).\n",
    "for i in reversed(range(n-1)):\n",
    "    qc.cx(i, i+1)\n",
    "qc.h(0)\n",
    "qc.measure(0, 0)\n",
    "\n",
    "qc.draw()\n",
    "                                   #debug why qc.draw('mpl') isn't functioning.#"
   ]
  },
  {
   "cell_type": "code",
   "execution_count": null,
   "id": "chief-print",
   "metadata": {},
   "outputs": [],
   "source": []
  }
 ],
 "metadata": {
  "kernelspec": {
   "display_name": "Python 3",
   "language": "python",
   "name": "python3"
  },
  "language_info": {
   "codemirror_mode": {
    "name": "ipython",
    "version": 3
   },
   "file_extension": ".py",
   "mimetype": "text/x-python",
   "name": "python",
   "nbconvert_exporter": "python",
   "pygments_lexer": "ipython3",
   "version": "3.7.10"
  }
 },
 "nbformat": 4,
 "nbformat_minor": 5
}
